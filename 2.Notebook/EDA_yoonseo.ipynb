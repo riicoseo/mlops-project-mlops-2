{
 "cells": [
  {
   "cell_type": "code",
   "execution_count": 104,
   "id": "8a651a8b",
   "metadata": {},
   "outputs": [],
   "source": [
    "import pandas as pd\n",
    "import matplotlib.pyplot as plt\n",
    "\n",
    "import matplotlib.font_manager as fm\n",
    "fe = fm.FontEntry(\n",
    "    fname=r'/usr/share/fonts/truetype/nanum/NanumGothic.ttf', # ttf 파일이 저장되어 있는 경로\n",
    "    name='NanumBarunGothic')                        # 이 폰트의 원하는 이름 설정\n",
    "fm.fontManager.ttflist.insert(0, fe)              # Matplotlib에 폰트 추가\n",
    "plt.rcParams.update({'font.size': 10, 'font.family': 'NanumBarunGothic'}) # 폰트 설정\n",
    "plt.rc('font', family='NanumBarunGothic')"
   ]
  },
  {
   "cell_type": "code",
   "execution_count": 105,
   "id": "e99c6070",
   "metadata": {},
   "outputs": [
    {
     "name": "stdout",
     "output_type": "stream",
     "text": [
      "   Unnamed: 0.2  Unnamed: 0  Unnamed: 0.1                    맥주이름  \\\n",
      "0             0           0             0  Kloud Original Gravity   \n",
      "1             1           1             2         Asahi Super Dry   \n",
      "\n",
      "                                  맥주스타일 Main Category  \\\n",
      "0  Pale Lager - International / Premium            라거   \n",
      "1  Pale Lager - International / Premium            라거   \n",
      "\n",
      "                                         Aroma  \\\n",
      "0  ['고소한 맥아향', '강한 향', '빵 향', '달콤한 향', '풀잎 향']   \n",
      "1           ['고소한 맥아향', '강한 향', '쌀 향', '풀잎 향']   \n",
      "\n",
      "                                        Flavor  Balance     Season  \\\n",
      "0                      ['쓴 맛', '상쾌함', '생강 힌트']  ['미디엄']  ['연중 내내']   \n",
      "1  ['쓴 맛', '상쾌함', '쌀 풍미', '약간의 단맛', '약간의 쓴 맛']  ['미디엄']  ['연중 내내']   \n",
      "\n",
      "               Paring Food                               Body      평점평균  평가횟수  \n",
      "0  ['생선 요리', '해산물', '샐러드']        ['드라이', '깔끔함', '가벼움', '탄산']  2.301010    99  \n",
      "1  ['생선 요리', '해산물', '샐러드']  ['드라이', '깔끔함', '가벼움', '약간의 매끄러움']  2.192882  1981  \n",
      "<class 'pandas.core.frame.DataFrame'>\n",
      "RangeIndex: 77 entries, 0 to 76\n",
      "Data columns (total 14 columns):\n",
      " #   Column         Non-Null Count  Dtype  \n",
      "---  ------         --------------  -----  \n",
      " 0   Unnamed: 0.2   77 non-null     int64  \n",
      " 1   Unnamed: 0     77 non-null     int64  \n",
      " 2   Unnamed: 0.1   77 non-null     int64  \n",
      " 3   맥주이름           77 non-null     object \n",
      " 4   맥주스타일          77 non-null     object \n",
      " 5   Main Category  77 non-null     object \n",
      " 6   Aroma          77 non-null     object \n",
      " 7   Flavor         77 non-null     object \n",
      " 8   Balance        77 non-null     object \n",
      " 9   Season         77 non-null     object \n",
      " 10  Paring Food    77 non-null     object \n",
      " 11  Body           77 non-null     object \n",
      " 12  평점평균           77 non-null     float64\n",
      " 13  평가횟수           77 non-null     int64  \n",
      "dtypes: float64(1), int64(4), object(9)\n",
      "memory usage: 8.5+ KB\n",
      "None\n",
      "       Unnamed: 0.2  Unnamed: 0  Unnamed: 0.1       평점평균         평가횟수\n",
      "count     77.000000   77.000000     77.000000  77.000000    77.000000\n",
      "mean      38.000000   38.000000     38.000000   2.550572   990.740260\n",
      "std       22.371857   22.371857     22.371857   0.541489  1354.242985\n",
      "min        0.000000    0.000000      0.000000   1.537023     1.000000\n",
      "25%       19.000000   19.000000     19.000000   2.152472    30.000000\n",
      "50%       38.000000   38.000000     38.000000   2.448684   348.000000\n",
      "75%       57.000000   57.000000     57.000000   2.980000  1730.000000\n",
      "max       76.000000   76.000000     76.000000   4.100000  5624.000000\n"
     ]
    }
   ],
   "source": [
    "df = pd.read_csv(\"/data/ephemeral/home/workspace/mlops-project-mlops-2/1.Data/맥주_cbf_data.csv\")\n",
    "print(df.head(2))\n",
    "print(df.info())\n",
    "print(df.describe())"
   ]
  },
  {
   "cell_type": "code",
   "execution_count": 106,
   "id": "6c44f414",
   "metadata": {},
   "outputs": [
    {
     "data": {
      "text/plain": [
       "Unnamed: 0.2     0\n",
       "Unnamed: 0       0\n",
       "Unnamed: 0.1     0\n",
       "맥주이름             0\n",
       "맥주스타일            0\n",
       "Main Category    0\n",
       "Aroma            0\n",
       "Flavor           0\n",
       "Balance          0\n",
       "Season           0\n",
       "Paring Food      0\n",
       "Body             0\n",
       "평점평균             0\n",
       "평가횟수             0\n",
       "dtype: int64"
      ]
     },
     "execution_count": 106,
     "metadata": {},
     "output_type": "execute_result"
    }
   ],
   "source": [
    "df.isnull().sum()  "
   ]
  },
  {
   "cell_type": "code",
   "execution_count": 107,
   "id": "08bfe62e",
   "metadata": {},
   "outputs": [],
   "source": [
    "df = df.drop(columns=['Unnamed: 0', 'Unnamed: 0.1'])\n"
   ]
  },
  {
   "cell_type": "code",
   "execution_count": 108,
   "id": "56a15a77",
   "metadata": {},
   "outputs": [
    {
     "data": {
      "text/html": [
       "<div>\n",
       "<style scoped>\n",
       "    .dataframe tbody tr th:only-of-type {\n",
       "        vertical-align: middle;\n",
       "    }\n",
       "\n",
       "    .dataframe tbody tr th {\n",
       "        vertical-align: top;\n",
       "    }\n",
       "\n",
       "    .dataframe thead th {\n",
       "        text-align: right;\n",
       "    }\n",
       "</style>\n",
       "<table border=\"1\" class=\"dataframe\">\n",
       "  <thead>\n",
       "    <tr style=\"text-align: right;\">\n",
       "      <th></th>\n",
       "      <th>맥주이름</th>\n",
       "      <th>맥주스타일</th>\n",
       "      <th>Main Category</th>\n",
       "      <th>Aroma</th>\n",
       "      <th>Flavor</th>\n",
       "      <th>Balance</th>\n",
       "      <th>Season</th>\n",
       "      <th>Paring Food</th>\n",
       "      <th>Body</th>\n",
       "      <th>평점평균</th>\n",
       "      <th>평가횟수</th>\n",
       "    </tr>\n",
       "  </thead>\n",
       "  <tbody>\n",
       "    <tr>\n",
       "      <th>0</th>\n",
       "      <td>Kloud Original Gravity</td>\n",
       "      <td>Pale Lager - International / Premium</td>\n",
       "      <td>라거</td>\n",
       "      <td>['고소한 맥아향', '강한 향', '빵 향', '달콤한 향', '풀잎 향']</td>\n",
       "      <td>['쓴 맛', '상쾌함', '생강 힌트']</td>\n",
       "      <td>['미디엄']</td>\n",
       "      <td>['연중 내내']</td>\n",
       "      <td>['생선 요리', '해산물', '샐러드']</td>\n",
       "      <td>['드라이', '깔끔함', '가벼움', '탄산']</td>\n",
       "      <td>2.301010</td>\n",
       "      <td>99</td>\n",
       "    </tr>\n",
       "    <tr>\n",
       "      <th>1</th>\n",
       "      <td>Asahi Super Dry</td>\n",
       "      <td>Pale Lager - International / Premium</td>\n",
       "      <td>라거</td>\n",
       "      <td>['고소한 맥아향', '강한 향', '쌀 향', '풀잎 향']</td>\n",
       "      <td>['쓴 맛', '상쾌함', '쌀 풍미', '약간의 단맛', '약간의 쓴 맛']</td>\n",
       "      <td>['미디엄']</td>\n",
       "      <td>['연중 내내']</td>\n",
       "      <td>['생선 요리', '해산물', '샐러드']</td>\n",
       "      <td>['드라이', '깔끔함', '가벼움', '약간의 매끄러움']</td>\n",
       "      <td>2.192882</td>\n",
       "      <td>1981</td>\n",
       "    </tr>\n",
       "    <tr>\n",
       "      <th>2</th>\n",
       "      <td>Tsingtao</td>\n",
       "      <td>Pale Lager - International / Premium</td>\n",
       "      <td>라거</td>\n",
       "      <td>['고소한 맥아향', '강한 향', '희미한 옥수수향']</td>\n",
       "      <td>['쓴 맛', '상쾌함', '가벼운 맥아 풍미', '옥수수 풍미', '약간의 쓴맛']</td>\n",
       "      <td>['미디엄']</td>\n",
       "      <td>['연중 내내']</td>\n",
       "      <td>['생선 요리', '해산물', '샐러드', '매운 음식']</td>\n",
       "      <td>['드라이', '깔끔함', '가벼움', '가벼운 탄산']</td>\n",
       "      <td>2.058092</td>\n",
       "      <td>2212</td>\n",
       "    </tr>\n",
       "    <tr>\n",
       "      <th>3</th>\n",
       "      <td>Heineken</td>\n",
       "      <td>Pale Lager - International / Premium</td>\n",
       "      <td>라거</td>\n",
       "      <td>['고소한 맥아향', '강한 향', '가벼운 스컹스 향', '풀잎 향']</td>\n",
       "      <td>['쓴 맛', '상쾌함', '스컹크 풍미']</td>\n",
       "      <td>['미디엄']</td>\n",
       "      <td>['연중 내내']</td>\n",
       "      <td>['생선 요리', '해산물', '샐러드']</td>\n",
       "      <td>['드라이', '깔끔함', '탄산']</td>\n",
       "      <td>2.159061</td>\n",
       "      <td>4133</td>\n",
       "    </tr>\n",
       "    <tr>\n",
       "      <th>4</th>\n",
       "      <td>Kirin Ichiban</td>\n",
       "      <td>Pale Lager - International / Premium</td>\n",
       "      <td>라거</td>\n",
       "      <td>['고소한 맥아향', '강한 향', '가벼운 낱알 몰트 향']</td>\n",
       "      <td>['쓴 맛', '상쾌함', '맥아 풍미']</td>\n",
       "      <td>['미디엄']</td>\n",
       "      <td>['연중 내내']</td>\n",
       "      <td>['생선 요리', '해산물', '샐러드']</td>\n",
       "      <td>['드라이', '깔끔함', '적당한 탄산']</td>\n",
       "      <td>2.224910</td>\n",
       "      <td>1943</td>\n",
       "    </tr>\n",
       "  </tbody>\n",
       "</table>\n",
       "</div>"
      ],
      "text/plain": [
       "                     맥주이름                                 맥주스타일 Main Category  \\\n",
       "0  Kloud Original Gravity  Pale Lager - International / Premium            라거   \n",
       "1         Asahi Super Dry  Pale Lager - International / Premium            라거   \n",
       "2                Tsingtao  Pale Lager - International / Premium            라거   \n",
       "3                Heineken  Pale Lager - International / Premium            라거   \n",
       "4           Kirin Ichiban  Pale Lager - International / Premium            라거   \n",
       "\n",
       "                                         Aroma  \\\n",
       "0  ['고소한 맥아향', '강한 향', '빵 향', '달콤한 향', '풀잎 향']   \n",
       "1           ['고소한 맥아향', '강한 향', '쌀 향', '풀잎 향']   \n",
       "2              ['고소한 맥아향', '강한 향', '희미한 옥수수향']   \n",
       "3     ['고소한 맥아향', '강한 향', '가벼운 스컹스 향', '풀잎 향']   \n",
       "4           ['고소한 맥아향', '강한 향', '가벼운 낱알 몰트 향']   \n",
       "\n",
       "                                            Flavor  Balance     Season  \\\n",
       "0                          ['쓴 맛', '상쾌함', '생강 힌트']  ['미디엄']  ['연중 내내']   \n",
       "1      ['쓴 맛', '상쾌함', '쌀 풍미', '약간의 단맛', '약간의 쓴 맛']  ['미디엄']  ['연중 내내']   \n",
       "2  ['쓴 맛', '상쾌함', '가벼운 맥아 풍미', '옥수수 풍미', '약간의 쓴맛']  ['미디엄']  ['연중 내내']   \n",
       "3                         ['쓴 맛', '상쾌함', '스컹크 풍미']  ['미디엄']  ['연중 내내']   \n",
       "4                          ['쓴 맛', '상쾌함', '맥아 풍미']  ['미디엄']  ['연중 내내']   \n",
       "\n",
       "                        Paring Food                               Body  \\\n",
       "0           ['생선 요리', '해산물', '샐러드']        ['드라이', '깔끔함', '가벼움', '탄산']   \n",
       "1           ['생선 요리', '해산물', '샐러드']  ['드라이', '깔끔함', '가벼움', '약간의 매끄러움']   \n",
       "2  ['생선 요리', '해산물', '샐러드', '매운 음식']    ['드라이', '깔끔함', '가벼움', '가벼운 탄산']   \n",
       "3           ['생선 요리', '해산물', '샐러드']               ['드라이', '깔끔함', '탄산']   \n",
       "4           ['생선 요리', '해산물', '샐러드']           ['드라이', '깔끔함', '적당한 탄산']   \n",
       "\n",
       "       평점평균  평가횟수  \n",
       "0  2.301010    99  \n",
       "1  2.192882  1981  \n",
       "2  2.058092  2212  \n",
       "3  2.159061  4133  \n",
       "4  2.224910  1943  "
      ]
     },
     "execution_count": 108,
     "metadata": {},
     "output_type": "execute_result"
    }
   ],
   "source": [
    "df = df.drop(columns=['Unnamed: 0.2'])\n",
    "df.head()"
   ]
  },
  {
   "cell_type": "code",
   "execution_count": 109,
   "id": "790874d9",
   "metadata": {},
   "outputs": [
    {
     "data": {
      "image/png": "[encoded data removed]",
      "text/plain": [
       "<Figure size 640x480 with 1 Axes>"
      ]
     },
     "metadata": {},
     "output_type": "display_data"
    }
   ],
   "source": [
    "df['평점평균'].hist(bins=10)\n",
    "plt.xlabel('평점평균')\n",
    "plt.ylabel('맥주 수')\n",
    "plt.title('맥주 평점 분포')\n",
    "plt.show()"
   ]
  },
  {
   "cell_type": "markdown",
   "id": "d9c77083",
   "metadata": {},
   "source": [
    "# CBF : 맥주 특성에 따른 유사도"
   ]
  },
  {
   "cell_type": "code",
   "execution_count": 110,
   "id": "c13103f6",
   "metadata": {},
   "outputs": [
    {
     "name": "stdout",
     "output_type": "stream",
     "text": [
      "['Aroma', 'Flavor', 'Balance', 'Season', 'Paring Food', 'Body']\n"
     ]
    }
   ],
   "source": [
    "# 리스트 형태의 문자열 컬럼 찾기\n",
    "import ast\n",
    "\n",
    "list_style_cols = []\n",
    "\n",
    "for col in df.columns:\n",
    "    sample_val = df[col].dropna().iloc[0]\n",
    "\n",
    "    if isinstance(sample_val, str) and sample_val.startswith('[') and sample_val.endswith(']'):\n",
    "        try:\n",
    "            transform_val = ast.literal_eval(sample_val)    \n",
    "            if isinstance(transform_val, list):\n",
    "                list_style_cols.append(col)\n",
    "\n",
    "        except (ValueError, SyntaxError):\n",
    "            print(f\"{col}: failed to parse as list\")\n",
    "            continue\n",
    "\n",
    "\n",
    "        except Exception as e:\n",
    "            print(f\"Error processing column {col}: {e}\")    \n",
    "            continue\n",
    "\n",
    "print(list_style_cols)\n",
    "\n"
   ]
  },
  {
   "cell_type": "code",
   "execution_count": 111,
   "id": "f8fe53e1",
   "metadata": {},
   "outputs": [
    {
     "data": {
      "text/plain": [
       "Aroma\n",
       "<class 'str'>    77\n",
       "Name: count, dtype: int64"
      ]
     },
     "execution_count": 111,
     "metadata": {},
     "output_type": "execute_result"
    }
   ],
   "source": [
    "df['Aroma'].apply(type).value_counts()"
   ]
  },
  {
   "cell_type": "code",
   "execution_count": 112,
   "id": "d277d9c7",
   "metadata": {},
   "outputs": [],
   "source": [
    "import regex as re\n",
    "\n",
    "def remove_double_quotes_inside_brackets(text):\n",
    "    if not isinstance(text, str):\n",
    "        return text\n",
    "    \n",
    "    # 대괄호 안쪽 전체 잡기\n",
    "    def replacer(match):\n",
    "        inside = match.group(1)\n",
    "        # 안쪽에서 \"\" 제거\n",
    "        return \"[\" + inside.replace('\"\"', '') + \"]\"\n",
    "    \n",
    "    return re.sub(r\"\\[(.*?)\\]\", replacer, text)\n",
    "\n",
    "df[\"Aroma\"] = df[\"Aroma\"].apply(remove_double_quotes_inside_brackets)"
   ]
  },
  {
   "cell_type": "code",
   "execution_count": 113,
   "id": "b1a09d5e",
   "metadata": {},
   "outputs": [],
   "source": [
    "# 문자열 → 리스트 변환\n",
    "import ast\n",
    "\n",
    "for col in list_style_cols:\n",
    "    df[col] = df[col].apply(lambda x: ast.literal_eval(x) if isinstance(x, str) else x)\n"
   ]
  },
  {
   "cell_type": "code",
   "execution_count": 114,
   "id": "e0d461a9",
   "metadata": {},
   "outputs": [],
   "source": [
    "# for col in list_style_cols:\n",
    "#     bad_rows = df[df[col].apply(lambda x: not isinstance(x, list))][col]\n",
    "#     if len(bad_rows) > 0:\n",
    "#         print(f\"비정상 리스트 값 : {col}\")\n",
    "#         print(bad_rows.head())\n",
    "#     else :\n",
    "#         df[col] = df[col].apply(lambda x : ast.literal_eval(x) if isinstance(x, str) else x)"
   ]
  },
  {
   "cell_type": "code",
   "execution_count": 115,
   "id": "9eeb55af",
   "metadata": {},
   "outputs": [
    {
     "data": {
      "text/plain": [
       "Aroma\n",
       "<class 'list'>    77\n",
       "Name: count, dtype: int64"
      ]
     },
     "execution_count": 115,
     "metadata": {},
     "output_type": "execute_result"
    }
   ],
   "source": [
    "df['Aroma'].apply(type).value_counts()"
   ]
  },
  {
   "cell_type": "code",
   "execution_count": 116,
   "id": "0b8574b1",
   "metadata": {},
   "outputs": [],
   "source": [
    "def normalize_list_columns(df: pd.DataFrame):\n",
    "\n",
    "    list_cols = []\n",
    "\n",
    "    for col in df.columns:\n",
    "        sample_val = df[col].dropna().iloc[0] if not df[col].dropna().empty else None\n",
    "\n",
    "        is_list_col = False\n",
    "        if isinstance(sample_val, list):\n",
    "            is_list_col = True\n",
    "        elif isinstance(sample_val, tuple) and len(sample_val) == 1 and isinstance(sample_val[0], list):\n",
    "            # ex.  ([청량함, 견과류 풍미, 스파이시, 쓴 맛])\n",
    "            is_list_col = True\n",
    "        elif isinstance(sample_val, str) and sample_val.startswith(\"[\") and sample_val.endswith(\"]\"):\n",
    "            # ex.  ['쓴 맛', '상쾌함']\n",
    "            try:\n",
    "                parsed_val = ast.literal_eval(sample_val)\n",
    "                if isinstance(parsed_val, list):\n",
    "                    is_list_col = True\n",
    "            except (ValueError, SyntaxError):\n",
    "                pass\n",
    "\n",
    "        if is_list_col:\n",
    "            list_cols.append(col)\n",
    "\n",
    "            def convert(val):\n",
    "                if isinstance(val, list):\n",
    "                    return val\n",
    "\n",
    "                if isinstance(val, tuple) and len(val) == 1 and isinstance(val[0], list):\n",
    "                    return val[0]\n",
    "                \n",
    "                if isinstance(val, str) :\n",
    "                    try:\n",
    "                        s = val.strip()\n",
    "                        parsed = ast.literal_eval(s)\n",
    "                        if isinstance(parsed, list):\n",
    "                            return parsed\n",
    "                    except (ValueError, SyntaxError):\n",
    "                        return None\n",
    "              \n",
    "                if pd.isna(val):\n",
    "                    return val    \n",
    "                \n",
    "                return None  # 그 외는 None 처리\n",
    "\n",
    "            df[col] = df[col].apply(convert)\n",
    "\n",
    "    return list_cols\n"
   ]
  },
  {
   "cell_type": "code",
   "execution_count": 117,
   "id": "93d977f3",
   "metadata": {},
   "outputs": [],
   "source": [
    "list_style_cols = normalize_list_columns(df)"
   ]
  },
  {
   "cell_type": "code",
   "execution_count": 118,
   "id": "df45887c",
   "metadata": {},
   "outputs": [],
   "source": [
    "from sklearn.preprocessing import MultiLabelBinarizer\n",
    "import pandas as pd\n",
    "\n",
    "mlb = MultiLabelBinarizer()\n",
    "encoded_features = []\n",
    "\n",
    "for col in list_style_cols:\n",
    "    transformed = mlb.fit_transform(df[col])\n",
    "    encoded_df = pd.DataFrame(\n",
    "        transformed,\n",
    "        columns=[f\"{col}_{c}\" for c in mlb.classes_],\n",
    "        index=df.index  # 인덱스 맞추기\n",
    "    )\n",
    "    encoded_features.append(encoded_df)\n",
    "\n",
    "# 인코딩된 컬럼들을 하나로 합치기\n",
    "# encoded_df_all = pd.concat(encoded_features, axis=1)\n",
    "\n",
    "# 원본 df와 합치기\n",
    "# df_encoded = pd.concat([df.drop(columns=list_style_cols), encoded_df_all], axis=1)\n"
   ]
  },
  {
   "cell_type": "code",
   "execution_count": 119,
   "id": "e841d559",
   "metadata": {},
   "outputs": [],
   "source": [
    "# 4. 수치형 컬럼 스케일링\n",
    "from sklearn.preprocessing import MinMaxScaler\n",
    "\n",
    "num_cols = ['평점평균', '평가횟수']\n",
    "scaler = MinMaxScaler()\n",
    "scaled_num_df = pd.DataFrame(scaler.fit_transform(df[num_cols]), columns=num_cols)"
   ]
  },
  {
   "cell_type": "code",
   "execution_count": 120,
   "id": "5c262aca",
   "metadata": {},
   "outputs": [],
   "source": [
    "# 5. 모든 feature 합치기\n",
    "feature_df = pd.concat(encoded_features + [scaled_num_df], axis=1)"
   ]
  },
  {
   "cell_type": "code",
   "execution_count": 121,
   "id": "6e703c74",
   "metadata": {},
   "outputs": [],
   "source": [
    "df_encoded = pd.concat([df[['맥주이름']], feature_df], axis=1)"
   ]
  },
  {
   "cell_type": "code",
   "execution_count": 122,
   "id": "824d7348",
   "metadata": {},
   "outputs": [
    {
     "data": {
      "text/plain": [
       "Index(['맥주이름', 'Aroma_'깔끔한 맥아향', '사츠홉향','스파이시한 향','허브향'', 'Aroma_가벼운 곡물향',\n",
       "       'Aroma_가벼운 낱알 몰트 향', 'Aroma_가벼운 스컹스 향', 'Aroma_가벼운 향', 'Aroma_강한 향',\n",
       "       'Aroma_거친 맥아향', 'Aroma_고소한 맥아향', 'Aroma_고수',\n",
       "       ...\n",
       "       'Body_적당한 탄산화', 'Body_적은 탄산', 'Body_적절한 탄산화', 'Body_진한 맥아 풍미',\n",
       "       'Body_청량함', 'Body_크리미', 'Body_탄산', 'Body_풍부한 탄산', '평점평균', '평가횟수'],\n",
       "      dtype='object', length=311)"
      ]
     },
     "execution_count": 122,
     "metadata": {},
     "output_type": "execute_result"
    }
   ],
   "source": [
    "df_encoded.head()\n",
    "df_encoded.columns\n"
   ]
  },
  {
   "cell_type": "code",
   "execution_count": 134,
   "id": "5f03562b",
   "metadata": {},
   "outputs": [],
   "source": [
    "from sklearn.metrics.pairwise import cosine_similarity\n",
    "import pandas as pd\n",
    "\n",
    "def recommend_beers(df_encoded, target_beer, top_n=5):\n",
    "    feature_cols = [col for col in df_encoded.columns if col != '맥주이름']\n",
    "    features = df_encoded[feature_cols]\n",
    "\n",
    "    # 부분 검색\n",
    "    matches = df_encoded[df_encoded['맥주이름'].str.contains(target_beer, case=False, na=False)].index[0]\n",
    "    target_idx = matches\n",
    "    if not matches:\n",
    "        raise ValueError(f\"'{target_beer}' not found in 맥주이름 column\")\n",
    "\n",
    "    # 코사인 유사도 계산\n",
    "    similarity_matrix = cosine_similarity(features)\n",
    "    sim_scores = list(enumerate(similarity_matrix[target_idx]))\n",
    "    sim_scores = sorted(sim_scores, key=lambda x: x[1], reverse=True)\n",
    "    sim_scores = sim_scores[1:top_n+1]\n",
    "\n",
    "    recommended = [(df_encoded.iloc[i]['맥주이름'], score) for i, score in sim_scores]\n",
    "\n",
    "    return pd.DataFrame(recommended, columns=[\"맥주이름\", \"similarity\"])\n"
   ]
  },
  {
   "cell_type": "markdown",
   "id": "5e26dc9e",
   "metadata": {},
   "source": [
    "# similarity_matrix : redis나 s3에 저장해두기??\n"
   ]
  },
  {
   "cell_type": "code",
   "execution_count": 135,
   "id": "f80fcfaf",
   "metadata": {},
   "outputs": [
    {
     "name": "stdout",
     "output_type": "stream",
     "text": [
      "                     맥주이름  similarity\n",
      "0  Guinness Original 4.2%    0.544176\n",
      "1         Victoria Bitter    0.266704\n",
      "2    Sapporo Premium Beer    0.233828\n",
      "3               Budweiser    0.225692\n",
      "4        Bavaria Pilsener    0.223273\n"
     ]
    }
   ],
   "source": [
    "recommendations = recommend_beers(df_encoded, target_beer=\"Guinness\", top_n=5)\n",
    "\n",
    "print(recommendations)"
   ]
  },
  {
   "cell_type": "code",
   "execution_count": 50,
   "id": "37674604",
   "metadata": {},
   "outputs": [
    {
     "name": "stdout",
     "output_type": "stream",
     "text": [
      "                          맥주이름  similarity\n",
      "0         Sapporo Premium Beer    0.856204\n",
      "1             Bavaria Pilsener    0.850753\n",
      "2       Kloud Fitz Super Clear    0.842013\n",
      "3        Peroni Nastro Azzurro    0.826350\n",
      "4  Castlemaine XXXX Gold Lager    0.807827\n"
     ]
    }
   ],
   "source": [
    "recommendations = recommend_beers(df_encoded, target_beer=\"Heineken\", top_n=5)\n",
    "\n",
    "print(recommendations)"
   ]
  },
  {
   "cell_type": "code",
   "execution_count": null,
   "id": "21285236",
   "metadata": {},
   "outputs": [],
   "source": []
  },
  {
   "cell_type": "code",
   "execution_count": null,
   "id": "dd97519e",
   "metadata": {},
   "outputs": [],
   "source": []
  },
  {
   "cell_type": "markdown",
   "id": "1fc44ee9",
   "metadata": {},
   "source": [
    "# CF : 맥주 평점 데이터 기반 맥주-맥주 유사도 (Item-Based CF)\n",
    "\n",
    "- A 맥주 평점이 높을 떄, B 맥주도 비슷하게 평점이 높은지 유사도 \n",
    "- \"맥주 간\" 평점 패턴의 유사성을 계산 → 내가 좋아하는 맥주와 비슷한 맥주 추천"
   ]
  },
  {
   "cell_type": "code",
   "execution_count": null,
   "id": "6953c010",
   "metadata": {},
   "outputs": [],
   "source": [
    "import pandas as pd\n",
    "from sklearn.metrics.pairwise import cosine_similarity\n",
    "\n",
    "beer_list = set(df_encoded['맥주이름'])\n",
    "rating_df = pd.read_csv(\"/data/ephemeral/home/workspace/mlops-project-mlops-2/1.Data/맥주.csv\")\n",
    "\n",
    "rating_df = rating_df[rating_df['맥주'].isin(beer_list)]\n",
    "\n",
    "rating_matrix = rating_df.pivot_table(index=\"아이디\", columns=\"맥주\", values=\"평점\")\n",
    "\n",
    "item_similarity = cosine_similarity(rating_matrix.T.fillna(0))\n",
    "item_similarity_df = pd.DataFrame(item_similarity,\n",
    "                                  index=rating_matrix.columns,\n",
    "                                  columns=rating_matrix.columns)\n",
    "\n"
   ]
  },
  {
   "cell_type": "code",
   "execution_count": 58,
   "id": "079be650",
   "metadata": {},
   "outputs": [
    {
     "name": "stdout",
     "output_type": "stream",
     "text": [
      "맥주\n",
      "Tsingtao                 0.461067\n",
      "Kirin Ichiban            0.458047\n",
      "Tiger Beer               0.457435\n",
      "Peroni Nastro Azzurro    0.425022\n",
      "Pilsner Urquell          0.421237\n",
      "Name: Asahi Super Dry, dtype: float64\n"
     ]
    }
   ],
   "source": [
    "def recommend_similar_beers(beer_name, top_n=5):\n",
    "    beer_name_lower = beer_name.lower()\n",
    "    matches = [b for b in item_similarity_df.index if beer_name_lower in b.lower()]\n",
    "    if not matches:\n",
    "        raise ValueError(f\"'{beer_name}'와(과) 일치하는 맥주를 찾을 수 없습니다.\")\n",
    "    \n",
    "    matched_beer = matches[0]\n",
    "    return item_similarity_df[matched_beer].sort_values(ascending=False)[1:top_n+1]\n",
    "\n",
    "print(recommend_similar_beers(\"asahi\", top_n=5))\n"
   ]
  },
  {
   "cell_type": "markdown",
   "id": "333375d1",
   "metadata": {},
   "source": []
  },
  {
   "cell_type": "markdown",
   "id": "2e6ed1a3",
   "metadata": {},
   "source": [
    "# CF : 맥주 평점 데이터 기반 유저-유저 유사도 (User-Based CF)\n",
    "\n",
    "- 나와 평점 분포가 비슷한, 취향이 비슷한 유저들이 좋아하는 맥주 \n",
    "- \"유저 간\" 평점 패턴의 유사성을 계산 → 나와 취향이 비슷한 유저들이 좋아하는 맥주를 추천\n",
    "\n",
    "\n"
   ]
  },
  {
   "cell_type": "code",
   "execution_count": null,
   "id": "4888761b",
   "metadata": {},
   "outputs": [],
   "source": [
    "import pandas as pd\n",
    "from sklearn.metrics.pairwise import cosine_similarity\n",
    "\n",
    "beer_list = set(df_encoded['맥주이름'])\n",
    "rating_df = pd.read_csv(\"/data/ephemeral/home/workspace/mlops-project-mlops-2/1.Data/맥주.csv\")\n",
    "rating_df = rating_df[rating_df['맥주'].isin(beer_list)]\n",
    "\n",
    "rating_df['아이디'] = rating_df['아이디'].str.replace(r\"\\(.*\\)\",\"\",regex=True)\n",
    "\n",
    "rating_matrix = rating_df.pivot_table(index=\"아이디\", columns=\"맥주\", values=\"평점\")\n",
    "\n",
    "\n",
    "user_similarity = cosine_similarity(rating_matrix.fillna(0))\n",
    "user_similarity_df = pd.DataFrame(user_similarity,\n",
    "                                  index=rating_matrix.index,\n",
    "                                  columns=rating_matrix.index)\n",
    "\n",
    "\n"
   ]
  },
  {
   "cell_type": "code",
   "execution_count": 72,
   "id": "243f83af",
   "metadata": {},
   "outputs": [
    {
     "name": "stdout",
     "output_type": "stream",
     "text": [
      "맥주\n",
      "Kloud Original Gravity    4.0\n",
      "Name: patjenner, dtype: float64\n"
     ]
    }
   ],
   "source": [
    "print(rating_matrix.loc[\"patjenner\"].dropna())"
   ]
  },
  {
   "cell_type": "code",
   "execution_count": null,
   "id": "3e3d7d81",
   "metadata": {},
   "outputs": [
    {
     "name": "stdout",
     "output_type": "stream",
     "text": [
      "patjenner 님, 최소 5개 이상의 맥주를 평가한 후에 추천을 받을 수 있습니다.\n",
      "=============\n",
      "rja 님에게 드리는 추천 맥주 맥주\n",
      "Erdinger Weissbier Dunkel    3.575\n",
      "Pilsner Urquell              3.540\n",
      "Guinness Draught             3.200\n",
      "Warsteiner Premium Verum     2.650\n",
      "Asahi Super Dry              2.600\n",
      "dtype: float64\n"
     ]
    }
   ],
   "source": [
    "\n",
    "def recommend_for_user(user_id, top_n=5):\n",
    "    if user_id not in user_similarity_df.index:\n",
    "        raise ValueError(f\"'{user_id}' 유저를 찾을 수 없습니다.\")\n",
    "    \n",
    "    user_rated_count = rating_matrix.loc[user_id].count()\n",
    "    if user_rated_count < 5:\n",
    "        return f\"{user_id} 님, 최소 5개 이상의 맥주를 평가한 후에 추천을 받을 수 있습니다.\"\n",
    "    \n",
    "    similar_users = user_similarity_df[user_id].sort_values(ascending=False)[1:top_n+1]\n",
    "    \n",
    "    similar_user_ratings = rating_matrix.loc[similar_users.index]\n",
    "    mean_ratings = similar_user_ratings.mean(axis=0).dropna().sort_values(ascending=False)\n",
    "    \n",
    "    # already_rated = rating_matrix.loc[user_id].dropna().index\n",
    "    # mean_ratings = mean_ratings[~mean_ratings.index.isin(already_rated)]\n",
    "\n",
    "    return mean_ratings.head(top_n)\n",
    "\n",
    "\n",
    "print(recommend_for_user(\"patjenner\", top_n=5))\n",
    "\n",
    "print(\"=============\")\n",
    "\n",
    "print(f\"rja 님에게 드리는 추천 맥주\",recommend_for_user(\"rja\", top_n=5))"
   ]
  }
 ],
 "metadata": {
  "kernelspec": {
   "display_name": "base",
   "language": "python",
   "name": "python3"
  },
  "language_info": {
   "codemirror_mode": {
    "name": "ipython",
    "version": 3
   },
   "file_extension": ".py",
   "mimetype": "text/x-python",
   "name": "python",
   "nbconvert_exporter": "python",
   "pygments_lexer": "ipython3",
   "version": "3.10.13"
  }
 },
 "nbformat": 4,
 "nbformat_minor": 5
}
